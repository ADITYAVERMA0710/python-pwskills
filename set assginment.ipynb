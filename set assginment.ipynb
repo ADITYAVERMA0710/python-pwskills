{
 "cells": [
  {
   "cell_type": "markdown",
   "id": "7c62d641",
   "metadata": {},
   "source": [
    "Q1. What is a set in Python?\n",
    "Ans:-\n",
    "    A set is a collection of items that are not in any specific order. \n",
    "    Each component of the set must be distinct (no duplication) and immutable (cannot be changed)."
   ]
  },
  {
   "cell_type": "markdown",
   "id": "15a3ed68",
   "metadata": {},
   "source": [
    "Q2.How do you create a set in Python?\n",
    "Ans\n",
    "In Python, sets are created by putting each element inside curly brackets and separating them with commas. \n",
    "Any amount of objects can be included in a set, and they can be of any type (integer, float, tuple, string, etc.). \n",
    "\n",
    "s = {1,22,22,3,45,\"pw\",\"pw\",5.5,4.5}\n",
    "s\n",
    "\n",
    "output:-\n",
    "    {1, 22, 3, 4.5, 45, 5.5, 'pw'}\n"
   ]
  },
  {
   "cell_type": "markdown",
   "id": "08a9a7cd",
   "metadata": {},
   "source": [
    "Q3. How do you add elements to a set in Python?\n",
    "Ans  By using add() method  with the new item to be added passed in as a parameter\n",
    "\n",
    "s1 = {1,22,22,3,45,\"pw\",\"pw\",5.5,4.5}\n",
    "s1.add(1010)\n",
    "s1\n",
    "\n",
    "output:- {1, 1010, 22, 3, 4.5, 45, 5.5, 'pw'}"
   ]
  },
  {
   "cell_type": "markdown",
   "id": "07f14b98",
   "metadata": {},
   "source": [
    "Q4. How do you remove elements from a set in Python?\n",
    "Ans:- \n",
    "By using remove() method or  the discard() method.\n",
    "\n",
    "s1 = {1,22,22,3,45,\"pw\",\"pw\",5.5,4.5}\n",
    "s1.remove(\"pw\")\n",
    "s1\n",
    "output:- {1, 3, 4.5, 5.5, 22, 45}\n",
    "\n",
    "\n",
    "\n",
    "\n",
    "s1.discard(22)\n",
    "s1\n",
    "output:- {1, 3, 4.5, 5.5, 45}"
   ]
  },
  {
   "cell_type": "markdown",
   "id": "09d4edb0",
   "metadata": {},
   "source": [
    "Q5. How do you get the length of a set in Python?\n",
    "\n",
    "Ans:- To determine how many items in a set has, use the len() method.\n",
    "\n",
    "\n",
    "    \n",
    "s = {1,22,22,3,45,\"pw\",\"pw\",5.5,4.5}\n",
    "len(s)\n",
    "\n",
    "output:- 7\n"
   ]
  },
  {
   "cell_type": "code",
   "execution_count": null,
   "id": "8e53edbe",
   "metadata": {},
   "outputs": [],
   "source": []
  }
 ],
 "metadata": {
  "kernelspec": {
   "display_name": "Python 3 (ipykernel)",
   "language": "python",
   "name": "python3"
  },
  "language_info": {
   "codemirror_mode": {
    "name": "ipython",
    "version": 3
   },
   "file_extension": ".py",
   "mimetype": "text/x-python",
   "name": "python",
   "nbconvert_exporter": "python",
   "pygments_lexer": "ipython3",
   "version": "3.9.13"
  }
 },
 "nbformat": 4,
 "nbformat_minor": 5
}
